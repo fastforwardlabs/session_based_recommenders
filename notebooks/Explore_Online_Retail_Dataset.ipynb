{
 "cells": [
  {
   "cell_type": "markdown",
   "metadata": {},
   "source": [
    "# The \"Online Retail\" Dataset \n",
    "\n",
    "This is a transnational data set which contains all purchase transactions occurring between 01/12/2010 and 09/12/2011 for a UK-based and registered non-store online retail. The company mainly sells unique all-occasion gifts. Many customers of the company are wholesalers. \n",
    "\n",
    "The dataset is composed of the following columns:\n",
    "\n",
    "\n",
    "* **InvoiceNo**: Invoice number. Nominal, a 6-digit integral number uniquely assigned to each transaction. If this code starts with letter 'c', it indicates a cancellation.\n",
    "* **StockCode**: Product (item) code. Nominal, a 5-digit integral number uniquely assigned to each distinct product.\n",
    "* **Description**: Product (item) name. Nominal.\n",
    "* **Quantity**: The quantities of each product (item) per transaction. Numeric.\n",
    "* **InvoiceDate**: Invice Date and time. Numeric, the day and time when each transaction was generated.\n",
    "* **UnitPrice**: Unit price. Numeric, Product price per unit in sterling.\n",
    "* **CustomerID**: Customer number. Nominal, a 5-digit integral number uniquely assigned to each customer.\n",
    "* **Country**: Country name. Nominal, the name of the country where each customer resides."
   ]
  },
  {
   "cell_type": "code",
   "execution_count": 22,
   "metadata": {},
   "outputs": [],
   "source": [
    "import pandas as pd\n",
    "import numpy as np\n",
    "import matplotlib.pyplot as plt\n",
    "import seaborn as sns\n",
    "\n",
    "from recsys.data import load_original_ecomm, preprocess_ecomm, construct_session_sequences "
   ]
  },
  {
   "cell_type": "code",
   "execution_count": 23,
   "metadata": {},
   "outputs": [],
   "source": [
    "import seaborn as sns\n",
    "plt.style.use(\"seaborn-white\")\n",
    "cldr_colors = ['#00b6b5', '#f7955b','#6c8cc7', '#828282']#\n",
    "cldr_green = '#a4d65d'\n",
    "color_palette = \"viridis\""
   ]
  },
  {
   "cell_type": "markdown",
   "metadata": {},
   "source": [
    "## Getting the dataset\n",
    "\n",
    "We obtained the Online Retail dataset from the Kaggle website found [here](https://www.kaggle.com/vijayuv/onlineretail). \n",
    "The data is open source but you will need to register on Kaggle's website before downloading. \n",
    "\n",
    "Once downloaded, we created some helper functions for opening and processing this dataset. "
   ]
  },
  {
   "cell_type": "code",
   "execution_count": 39,
   "metadata": {},
   "outputs": [],
   "source": [
    "df = load_original_ecomm()"
   ]
  },
  {
   "cell_type": "code",
   "execution_count": 25,
   "metadata": {},
   "outputs": [
    {
     "data": {
      "text/html": [
       "<div>\n",
       "<style scoped>\n",
       "    .dataframe tbody tr th:only-of-type {\n",
       "        vertical-align: middle;\n",
       "    }\n",
       "\n",
       "    .dataframe tbody tr th {\n",
       "        vertical-align: top;\n",
       "    }\n",
       "\n",
       "    .dataframe thead th {\n",
       "        text-align: right;\n",
       "    }\n",
       "</style>\n",
       "<table border=\"1\" class=\"dataframe\">\n",
       "  <thead>\n",
       "    <tr style=\"text-align: right;\">\n",
       "      <th></th>\n",
       "      <th>InvoiceNo</th>\n",
       "      <th>StockCode</th>\n",
       "      <th>Description</th>\n",
       "      <th>Quantity</th>\n",
       "      <th>InvoiceDate</th>\n",
       "      <th>UnitPrice</th>\n",
       "      <th>CustomerID</th>\n",
       "      <th>Country</th>\n",
       "    </tr>\n",
       "  </thead>\n",
       "  <tbody>\n",
       "    <tr>\n",
       "      <th>0</th>\n",
       "      <td>536365</td>\n",
       "      <td>85123A</td>\n",
       "      <td>WHITE HANGING HEART T-LIGHT HOLDER</td>\n",
       "      <td>6</td>\n",
       "      <td>2010-12-01 08:26:00</td>\n",
       "      <td>2.55</td>\n",
       "      <td>17850.0</td>\n",
       "      <td>United Kingdom</td>\n",
       "    </tr>\n",
       "    <tr>\n",
       "      <th>1</th>\n",
       "      <td>536365</td>\n",
       "      <td>71053</td>\n",
       "      <td>WHITE METAL LANTERN</td>\n",
       "      <td>6</td>\n",
       "      <td>2010-12-01 08:26:00</td>\n",
       "      <td>3.39</td>\n",
       "      <td>17850.0</td>\n",
       "      <td>United Kingdom</td>\n",
       "    </tr>\n",
       "    <tr>\n",
       "      <th>2</th>\n",
       "      <td>536365</td>\n",
       "      <td>84406B</td>\n",
       "      <td>CREAM CUPID HEARTS COAT HANGER</td>\n",
       "      <td>8</td>\n",
       "      <td>2010-12-01 08:26:00</td>\n",
       "      <td>2.75</td>\n",
       "      <td>17850.0</td>\n",
       "      <td>United Kingdom</td>\n",
       "    </tr>\n",
       "    <tr>\n",
       "      <th>3</th>\n",
       "      <td>536365</td>\n",
       "      <td>84029G</td>\n",
       "      <td>KNITTED UNION FLAG HOT WATER BOTTLE</td>\n",
       "      <td>6</td>\n",
       "      <td>2010-12-01 08:26:00</td>\n",
       "      <td>3.39</td>\n",
       "      <td>17850.0</td>\n",
       "      <td>United Kingdom</td>\n",
       "    </tr>\n",
       "    <tr>\n",
       "      <th>4</th>\n",
       "      <td>536365</td>\n",
       "      <td>84029E</td>\n",
       "      <td>RED WOOLLY HOTTIE WHITE HEART.</td>\n",
       "      <td>6</td>\n",
       "      <td>2010-12-01 08:26:00</td>\n",
       "      <td>3.39</td>\n",
       "      <td>17850.0</td>\n",
       "      <td>United Kingdom</td>\n",
       "    </tr>\n",
       "    <tr>\n",
       "      <th>5</th>\n",
       "      <td>536365</td>\n",
       "      <td>22752</td>\n",
       "      <td>SET 7 BABUSHKA NESTING BOXES</td>\n",
       "      <td>2</td>\n",
       "      <td>2010-12-01 08:26:00</td>\n",
       "      <td>7.65</td>\n",
       "      <td>17850.0</td>\n",
       "      <td>United Kingdom</td>\n",
       "    </tr>\n",
       "    <tr>\n",
       "      <th>6</th>\n",
       "      <td>536365</td>\n",
       "      <td>21730</td>\n",
       "      <td>GLASS STAR FROSTED T-LIGHT HOLDER</td>\n",
       "      <td>6</td>\n",
       "      <td>2010-12-01 08:26:00</td>\n",
       "      <td>4.25</td>\n",
       "      <td>17850.0</td>\n",
       "      <td>United Kingdom</td>\n",
       "    </tr>\n",
       "    <tr>\n",
       "      <th>7</th>\n",
       "      <td>536366</td>\n",
       "      <td>22633</td>\n",
       "      <td>HAND WARMER UNION JACK</td>\n",
       "      <td>6</td>\n",
       "      <td>2010-12-01 08:28:00</td>\n",
       "      <td>1.85</td>\n",
       "      <td>17850.0</td>\n",
       "      <td>United Kingdom</td>\n",
       "    </tr>\n",
       "    <tr>\n",
       "      <th>8</th>\n",
       "      <td>536366</td>\n",
       "      <td>22632</td>\n",
       "      <td>HAND WARMER RED POLKA DOT</td>\n",
       "      <td>6</td>\n",
       "      <td>2010-12-01 08:28:00</td>\n",
       "      <td>1.85</td>\n",
       "      <td>17850.0</td>\n",
       "      <td>United Kingdom</td>\n",
       "    </tr>\n",
       "    <tr>\n",
       "      <th>9</th>\n",
       "      <td>536367</td>\n",
       "      <td>84879</td>\n",
       "      <td>ASSORTED COLOUR BIRD ORNAMENT</td>\n",
       "      <td>32</td>\n",
       "      <td>2010-12-01 08:34:00</td>\n",
       "      <td>1.69</td>\n",
       "      <td>13047.0</td>\n",
       "      <td>United Kingdom</td>\n",
       "    </tr>\n",
       "    <tr>\n",
       "      <th>10</th>\n",
       "      <td>536367</td>\n",
       "      <td>22745</td>\n",
       "      <td>POPPY'S PLAYHOUSE BEDROOM</td>\n",
       "      <td>6</td>\n",
       "      <td>2010-12-01 08:34:00</td>\n",
       "      <td>2.10</td>\n",
       "      <td>13047.0</td>\n",
       "      <td>United Kingdom</td>\n",
       "    </tr>\n",
       "    <tr>\n",
       "      <th>11</th>\n",
       "      <td>536367</td>\n",
       "      <td>22748</td>\n",
       "      <td>POPPY'S PLAYHOUSE KITCHEN</td>\n",
       "      <td>6</td>\n",
       "      <td>2010-12-01 08:34:00</td>\n",
       "      <td>2.10</td>\n",
       "      <td>13047.0</td>\n",
       "      <td>United Kingdom</td>\n",
       "    </tr>\n",
       "    <tr>\n",
       "      <th>12</th>\n",
       "      <td>536367</td>\n",
       "      <td>22749</td>\n",
       "      <td>FELTCRAFT PRINCESS CHARLOTTE DOLL</td>\n",
       "      <td>8</td>\n",
       "      <td>2010-12-01 08:34:00</td>\n",
       "      <td>3.75</td>\n",
       "      <td>13047.0</td>\n",
       "      <td>United Kingdom</td>\n",
       "    </tr>\n",
       "    <tr>\n",
       "      <th>13</th>\n",
       "      <td>536367</td>\n",
       "      <td>22310</td>\n",
       "      <td>IVORY KNITTED MUG COSY</td>\n",
       "      <td>6</td>\n",
       "      <td>2010-12-01 08:34:00</td>\n",
       "      <td>1.65</td>\n",
       "      <td>13047.0</td>\n",
       "      <td>United Kingdom</td>\n",
       "    </tr>\n",
       "    <tr>\n",
       "      <th>14</th>\n",
       "      <td>536367</td>\n",
       "      <td>84969</td>\n",
       "      <td>BOX OF 6 ASSORTED COLOUR TEASPOONS</td>\n",
       "      <td>6</td>\n",
       "      <td>2010-12-01 08:34:00</td>\n",
       "      <td>4.25</td>\n",
       "      <td>13047.0</td>\n",
       "      <td>United Kingdom</td>\n",
       "    </tr>\n",
       "    <tr>\n",
       "      <th>15</th>\n",
       "      <td>536367</td>\n",
       "      <td>22623</td>\n",
       "      <td>BOX OF VINTAGE JIGSAW BLOCKS</td>\n",
       "      <td>3</td>\n",
       "      <td>2010-12-01 08:34:00</td>\n",
       "      <td>4.95</td>\n",
       "      <td>13047.0</td>\n",
       "      <td>United Kingdom</td>\n",
       "    </tr>\n",
       "    <tr>\n",
       "      <th>16</th>\n",
       "      <td>536367</td>\n",
       "      <td>22622</td>\n",
       "      <td>BOX OF VINTAGE ALPHABET BLOCKS</td>\n",
       "      <td>2</td>\n",
       "      <td>2010-12-01 08:34:00</td>\n",
       "      <td>9.95</td>\n",
       "      <td>13047.0</td>\n",
       "      <td>United Kingdom</td>\n",
       "    </tr>\n",
       "    <tr>\n",
       "      <th>17</th>\n",
       "      <td>536367</td>\n",
       "      <td>21754</td>\n",
       "      <td>HOME BUILDING BLOCK WORD</td>\n",
       "      <td>3</td>\n",
       "      <td>2010-12-01 08:34:00</td>\n",
       "      <td>5.95</td>\n",
       "      <td>13047.0</td>\n",
       "      <td>United Kingdom</td>\n",
       "    </tr>\n",
       "    <tr>\n",
       "      <th>18</th>\n",
       "      <td>536367</td>\n",
       "      <td>21755</td>\n",
       "      <td>LOVE BUILDING BLOCK WORD</td>\n",
       "      <td>3</td>\n",
       "      <td>2010-12-01 08:34:00</td>\n",
       "      <td>5.95</td>\n",
       "      <td>13047.0</td>\n",
       "      <td>United Kingdom</td>\n",
       "    </tr>\n",
       "    <tr>\n",
       "      <th>19</th>\n",
       "      <td>536367</td>\n",
       "      <td>21777</td>\n",
       "      <td>RECIPE BOX WITH METAL HEART</td>\n",
       "      <td>4</td>\n",
       "      <td>2010-12-01 08:34:00</td>\n",
       "      <td>7.95</td>\n",
       "      <td>13047.0</td>\n",
       "      <td>United Kingdom</td>\n",
       "    </tr>\n",
       "  </tbody>\n",
       "</table>\n",
       "</div>"
      ],
      "text/plain": [
       "   InvoiceNo StockCode                          Description  Quantity  \\\n",
       "0     536365    85123A   WHITE HANGING HEART T-LIGHT HOLDER         6   \n",
       "1     536365     71053                  WHITE METAL LANTERN         6   \n",
       "2     536365    84406B       CREAM CUPID HEARTS COAT HANGER         8   \n",
       "3     536365    84029G  KNITTED UNION FLAG HOT WATER BOTTLE         6   \n",
       "4     536365    84029E       RED WOOLLY HOTTIE WHITE HEART.         6   \n",
       "5     536365     22752         SET 7 BABUSHKA NESTING BOXES         2   \n",
       "6     536365     21730    GLASS STAR FROSTED T-LIGHT HOLDER         6   \n",
       "7     536366     22633               HAND WARMER UNION JACK         6   \n",
       "8     536366     22632            HAND WARMER RED POLKA DOT         6   \n",
       "9     536367     84879        ASSORTED COLOUR BIRD ORNAMENT        32   \n",
       "10    536367     22745           POPPY'S PLAYHOUSE BEDROOM          6   \n",
       "11    536367     22748            POPPY'S PLAYHOUSE KITCHEN         6   \n",
       "12    536367     22749    FELTCRAFT PRINCESS CHARLOTTE DOLL         8   \n",
       "13    536367     22310              IVORY KNITTED MUG COSY          6   \n",
       "14    536367     84969   BOX OF 6 ASSORTED COLOUR TEASPOONS         6   \n",
       "15    536367     22623        BOX OF VINTAGE JIGSAW BLOCKS          3   \n",
       "16    536367     22622       BOX OF VINTAGE ALPHABET BLOCKS         2   \n",
       "17    536367     21754             HOME BUILDING BLOCK WORD         3   \n",
       "18    536367     21755             LOVE BUILDING BLOCK WORD         3   \n",
       "19    536367     21777          RECIPE BOX WITH METAL HEART         4   \n",
       "\n",
       "           InvoiceDate  UnitPrice  CustomerID         Country  \n",
       "0  2010-12-01 08:26:00       2.55     17850.0  United Kingdom  \n",
       "1  2010-12-01 08:26:00       3.39     17850.0  United Kingdom  \n",
       "2  2010-12-01 08:26:00       2.75     17850.0  United Kingdom  \n",
       "3  2010-12-01 08:26:00       3.39     17850.0  United Kingdom  \n",
       "4  2010-12-01 08:26:00       3.39     17850.0  United Kingdom  \n",
       "5  2010-12-01 08:26:00       7.65     17850.0  United Kingdom  \n",
       "6  2010-12-01 08:26:00       4.25     17850.0  United Kingdom  \n",
       "7  2010-12-01 08:28:00       1.85     17850.0  United Kingdom  \n",
       "8  2010-12-01 08:28:00       1.85     17850.0  United Kingdom  \n",
       "9  2010-12-01 08:34:00       1.69     13047.0  United Kingdom  \n",
       "10 2010-12-01 08:34:00       2.10     13047.0  United Kingdom  \n",
       "11 2010-12-01 08:34:00       2.10     13047.0  United Kingdom  \n",
       "12 2010-12-01 08:34:00       3.75     13047.0  United Kingdom  \n",
       "13 2010-12-01 08:34:00       1.65     13047.0  United Kingdom  \n",
       "14 2010-12-01 08:34:00       4.25     13047.0  United Kingdom  \n",
       "15 2010-12-01 08:34:00       4.95     13047.0  United Kingdom  \n",
       "16 2010-12-01 08:34:00       9.95     13047.0  United Kingdom  \n",
       "17 2010-12-01 08:34:00       5.95     13047.0  United Kingdom  \n",
       "18 2010-12-01 08:34:00       5.95     13047.0  United Kingdom  \n",
       "19 2010-12-01 08:34:00       7.95     13047.0  United Kingdom  "
      ]
     },
     "execution_count": 25,
     "metadata": {},
     "output_type": "execute_result"
    }
   ],
   "source": [
    "df.head(20)"
   ]
  },
  {
   "cell_type": "markdown",
   "metadata": {},
   "source": [
    "These purchase histories record transactions for each customer and detail the items that were purchased in each transaction. Each transaction has a unique InvoiceNo, a time stamp (InvoiceDate) and the CustomerID of the purchaser. \n",
    "\n",
    "## Preprocessing\n",
    "\n",
    "There are some rows with missing information, so we'll filter those out. Since we want to define customer sessions, we'll use group by CustomerID field and filter out any customer entries that have fewer than three purchased items."
   ]
  },
  {
   "cell_type": "code",
   "execution_count": 47,
   "metadata": {},
   "outputs": [
    {
     "data": {
      "text/plain": [
       "InvoiceNo           0\n",
       "StockCode           0\n",
       "Description      1454\n",
       "Quantity            0\n",
       "InvoiceDate         0\n",
       "UnitPrice           0\n",
       "CustomerID     135080\n",
       "Country             0\n",
       "dtype: int64"
      ]
     },
     "execution_count": 47,
     "metadata": {},
     "output_type": "execute_result"
    }
   ],
   "source": [
    "df.isnull().sum()"
   ]
  },
  {
   "cell_type": "code",
   "execution_count": 48,
   "metadata": {},
   "outputs": [],
   "source": [
    "df.dropna(inplace=True)"
   ]
  },
  {
   "cell_type": "code",
   "execution_count": 49,
   "metadata": {},
   "outputs": [],
   "source": [
    "# filter out sessions that have fewer than 3 items\n",
    "item_counts = df.groupby([\"CustomerID\"]).count()[\"StockCode\"]\n",
    "df = df[\n",
    "    df[\"CustomerID\"].isin(item_counts[item_counts >= 3].index)\n",
    "].reset_index(drop=True)"
   ]
  },
  {
   "cell_type": "code",
   "execution_count": 50,
   "metadata": {},
   "outputs": [
    {
     "data": {
      "text/plain": [
       "CustomerID\n",
       "12346.0      2\n",
       "12347.0    182\n",
       "12348.0     31\n",
       "12349.0     73\n",
       "12350.0     17\n",
       "          ... \n",
       "18280.0     10\n",
       "18281.0      7\n",
       "18282.0     13\n",
       "18283.0    756\n",
       "18287.0     70\n",
       "Name: StockCode, Length: 4372, dtype: int64"
      ]
     },
     "execution_count": 50,
     "metadata": {},
     "output_type": "execute_result"
    }
   ],
   "source": [
    "item_counts"
   ]
  },
  {
   "cell_type": "markdown",
   "metadata": {},
   "source": [
    "## Dataset Statistics"
   ]
  },
  {
   "cell_type": "code",
   "execution_count": 29,
   "metadata": {},
   "outputs": [
    {
     "data": {
      "text/plain": [
       "4234"
      ]
     },
     "execution_count": 29,
     "metadata": {},
     "output_type": "execute_result"
    }
   ],
   "source": [
    "# Number of unique customers after preprocessing\n",
    "df.CustomerID.nunique()"
   ]
  },
  {
   "cell_type": "code",
   "execution_count": 30,
   "metadata": {},
   "outputs": [
    {
     "data": {
      "text/plain": [
       "3684"
      ]
     },
     "execution_count": 30,
     "metadata": {},
     "output_type": "execute_result"
    }
   ],
   "source": [
    "# Number of unique stock codes (products)\n",
    "df.StockCode.nunique()"
   ]
  },
  {
   "cell_type": "markdown",
   "metadata": {},
   "source": [
    "### Product popularity\n",
    "\n",
    "Here we plot the frequency by which each product is purchased (occurs in a transaction). "
   ]
  },
  {
   "cell_type": "code",
   "execution_count": 31,
   "metadata": {},
   "outputs": [
    {
     "data": {
      "image/png": "[encoded data removed]",
      "text/plain": [
       "<Figure size 576x432 with 1 Axes>"
      ]
     },
     "metadata": {},
     "output_type": "display_data"
    }
   ],
   "source": [
    "plt.style.use(\"seaborn-white\")\n",
    "\n",
    "# Number of unique customer IDs\n",
    "product_counts = df.groupby(['StockCode']).count()['InvoiceNo'].values\n",
    "\n",
    "fig = plt.figure(figsize=(8,6))\n",
    "plt.yticks(fontsize=14)\n",
    "plt.xticks(fontsize=14)\n",
    "\n",
    "plt.semilogy(sorted(product_counts))\n",
    "plt.ylabel(\"Product counts\", fontsize=16);\n",
    "plt.xlabel(\"Product index\", fontsize=16);\n",
    "\n",
    "plt.tight_layout()"
   ]
  },
  {
   "cell_type": "markdown",
   "metadata": {},
   "source": [
    "The left side of the figure corresponds to products that are not very popular (because they aren't purchased very often), while the far right side indicates that some products are *extremely* popular and have been purchased hundreds of times. \n",
    "\n",
    "### Customer session lengths \n",
    "\n",
    "We define a customer's \"session\" as all the products they purchased in each transaction, in the order in which they were purchased (ordered InvoiceDate). We can then examine statistics regarding the length of these sessions. Below is a boxplot of all customer session lengths.  "
   ]
  },
  {
   "cell_type": "code",
   "execution_count": 78,
   "metadata": {},
   "outputs": [
    {
     "data": {
      "image/png": "[encoded data removed]",
      "text/plain": [
       "<Figure size 576x432 with 1 Axes>"
      ]
     },
     "metadata": {},
     "output_type": "display_data"
    }
   ],
   "source": [
    "session_lengths = df.groupby(\"CustomerID\").count()['InvoiceNo'].values\n",
    "\n",
    "fig = plt.figure(figsize=(8,6))\n",
    "plt.xticks(fontsize=14)\n",
    "\n",
    "ax = sns.boxplot(x=session_lengths, color=cldr_colors[2])\n",
    "\n",
    "for patch in ax.artists:\n",
    "    r, g, b, a = patch.get_facecolor()\n",
    "    patch.set_facecolor((r, g, b, .7))\n",
    "    \n",
    "plt.xlim(0,600)\n",
    "plt.xlabel(\"Session length (# of products purchased)\", fontsize=16);\n",
    "\n",
    "plt.tight_layout()\n",
    "plt.savefig(\"../../recommendations/docs/images/session_lengths.png\", transparent=True, dpi=150)"
   ]
  },
  {
   "cell_type": "code",
   "execution_count": 57,
   "metadata": {},
   "outputs": [
    {
     "name": "stdout",
     "output_type": "stream",
     "text": [
      "Minimum session length: \t 3\n",
      "Maximum session length: \t 7983\n",
      "Mean session length: \t \t 96.03967879074162\n",
      "Median session length: \t \t 44.0\n",
      "Total number of purchases: \t 406632\n"
     ]
    }
   ],
   "source": [
    "print(\"Minimum session length: \\t\", min(session_lengths))\n",
    "print(\"Maximum session length: \\t\", max(session_lengths))\n",
    "print(\"Mean session length: \\t \\t\", np.mean(session_lengths))\n",
    "print(\"Median session length: \\t \\t\", np.median(session_lengths))\n",
    "print(\"Total number of purchases: \\t\", np.sum(session_lengths))"
   ]
  },
  {
   "cell_type": "markdown",
   "metadata": {},
   "source": [
    "## Misc "
   ]
  },
  {
   "cell_type": "code",
   "execution_count": 63,
   "metadata": {},
   "outputs": [
    {
     "data": {
      "text/plain": [
       "Timedelta('69 days 23:11:00')"
      ]
     },
     "execution_count": 63,
     "metadata": {},
     "output_type": "execute_result"
    }
   ],
   "source": [
    "customer_grps.get_group(custIDs[0])['InvoiceDate'].diff().max()"
   ]
  },
  {
   "cell_type": "code",
   "execution_count": 66,
   "metadata": {},
   "outputs": [
    {
     "data": {
      "text/plain": [
       "312"
      ]
     },
     "execution_count": 66,
     "metadata": {},
     "output_type": "execute_result"
    }
   ],
   "source": [
    "len(customer_grps.get_group(custIDs[0])['StockCode'])"
   ]
  },
  {
   "cell_type": "code",
   "execution_count": 66,
   "metadata": {},
   "outputs": [],
   "source": [
    "customer_grps = df.groupby(\"CustomerID\")\n",
    "max_time_diff = []\n",
    "\n",
    "for custID, history in customer_grps:\n",
    "    max_time_diff.append(history['InvoiceDate'].diff().max().days)"
   ]
  },
  {
   "cell_type": "code",
   "execution_count": 72,
   "metadata": {},
   "outputs": [
    {
     "data": {
      "text/plain": [
       "<matplotlib.collections.PathCollection at 0x1229cf100>"
      ]
     },
     "execution_count": 72,
     "metadata": {},
     "output_type": "execute_result"
    },
    {
     "data": {
      "image/png": "[encoded data removed]",
      "text/plain": [
       "<Figure size 432x288 with 1 Axes>"
      ]
     },
     "metadata": {},
     "output_type": "display_data"
    }
   ],
   "source": [
    "max_time_diff\n",
    "\n",
    "plt.scatter(np.arange(len(max_time_diff)), sorted(max_time_diff))"
   ]
  },
  {
   "cell_type": "code",
   "execution_count": 74,
   "metadata": {},
   "outputs": [
    {
     "data": {
      "text/html": [
       "<div>\n",
       "<style scoped>\n",
       "    .dataframe tbody tr th:only-of-type {\n",
       "        vertical-align: middle;\n",
       "    }\n",
       "\n",
       "    .dataframe tbody tr th {\n",
       "        vertical-align: top;\n",
       "    }\n",
       "\n",
       "    .dataframe thead th {\n",
       "        text-align: right;\n",
       "    }\n",
       "</style>\n",
       "<table border=\"1\" class=\"dataframe\">\n",
       "  <thead>\n",
       "    <tr style=\"text-align: right;\">\n",
       "      <th></th>\n",
       "      <th>InvoiceNo</th>\n",
       "      <th>Description</th>\n",
       "      <th>InvoiceDate</th>\n",
       "    </tr>\n",
       "  </thead>\n",
       "  <tbody>\n",
       "    <tr>\n",
       "      <th>10652</th>\n",
       "      <td>537626</td>\n",
       "      <td>BLACK CANDELABRA T-LIGHT HOLDER</td>\n",
       "      <td>2010-12-07 14:57:00</td>\n",
       "    </tr>\n",
       "    <tr>\n",
       "      <th>10653</th>\n",
       "      <td>537626</td>\n",
       "      <td>AIRLINE BAG VINTAGE JET SET BROWN</td>\n",
       "      <td>2010-12-07 14:57:00</td>\n",
       "    </tr>\n",
       "    <tr>\n",
       "      <th>10654</th>\n",
       "      <td>537626</td>\n",
       "      <td>COLOUR GLASS. STAR T-LIGHT HOLDER</td>\n",
       "      <td>2010-12-07 14:57:00</td>\n",
       "    </tr>\n",
       "    <tr>\n",
       "      <th>10655</th>\n",
       "      <td>537626</td>\n",
       "      <td>MINI PAINT SET VINTAGE</td>\n",
       "      <td>2010-12-07 14:57:00</td>\n",
       "    </tr>\n",
       "    <tr>\n",
       "      <th>10656</th>\n",
       "      <td>537626</td>\n",
       "      <td>CLEAR DRAWER KNOB ACRYLIC EDWARDIAN</td>\n",
       "      <td>2010-12-07 14:57:00</td>\n",
       "    </tr>\n",
       "    <tr>\n",
       "      <th>...</th>\n",
       "      <td>...</td>\n",
       "      <td>...</td>\n",
       "      <td>...</td>\n",
       "    </tr>\n",
       "    <tr>\n",
       "      <th>403109</th>\n",
       "      <td>581180</td>\n",
       "      <td>WOODLAND CHARLOTTE BAG</td>\n",
       "      <td>2011-12-07 15:52:00</td>\n",
       "    </tr>\n",
       "    <tr>\n",
       "      <th>403110</th>\n",
       "      <td>581180</td>\n",
       "      <td>PINK GOOSE FEATHER TREE 60CM</td>\n",
       "      <td>2011-12-07 15:52:00</td>\n",
       "    </tr>\n",
       "    <tr>\n",
       "      <th>403111</th>\n",
       "      <td>581180</td>\n",
       "      <td>CHRISTMAS TABLE SILVER CANDLE SPIKE</td>\n",
       "      <td>2011-12-07 15:52:00</td>\n",
       "    </tr>\n",
       "    <tr>\n",
       "      <th>403112</th>\n",
       "      <td>581180</td>\n",
       "      <td>MINI PLAYING CARDS SPACEBOY</td>\n",
       "      <td>2011-12-07 15:52:00</td>\n",
       "    </tr>\n",
       "    <tr>\n",
       "      <th>403113</th>\n",
       "      <td>581180</td>\n",
       "      <td>MINI PLAYING CARDS DOLLY GIRL</td>\n",
       "      <td>2011-12-07 15:52:00</td>\n",
       "    </tr>\n",
       "  </tbody>\n",
       "</table>\n",
       "<p>182 rows × 3 columns</p>\n",
       "</div>"
      ],
      "text/plain": [
       "       InvoiceNo                          Description         InvoiceDate\n",
       "10652     537626      BLACK CANDELABRA T-LIGHT HOLDER 2010-12-07 14:57:00\n",
       "10653     537626    AIRLINE BAG VINTAGE JET SET BROWN 2010-12-07 14:57:00\n",
       "10654     537626    COLOUR GLASS. STAR T-LIGHT HOLDER 2010-12-07 14:57:00\n",
       "10655     537626              MINI PAINT SET VINTAGE  2010-12-07 14:57:00\n",
       "10656     537626  CLEAR DRAWER KNOB ACRYLIC EDWARDIAN 2010-12-07 14:57:00\n",
       "...          ...                                  ...                 ...\n",
       "403109    581180               WOODLAND CHARLOTTE BAG 2011-12-07 15:52:00\n",
       "403110    581180         PINK GOOSE FEATHER TREE 60CM 2011-12-07 15:52:00\n",
       "403111    581180  CHRISTMAS TABLE SILVER CANDLE SPIKE 2011-12-07 15:52:00\n",
       "403112    581180         MINI PLAYING CARDS SPACEBOY  2011-12-07 15:52:00\n",
       "403113    581180       MINI PLAYING CARDS DOLLY GIRL  2011-12-07 15:52:00\n",
       "\n",
       "[182 rows x 3 columns]"
      ]
     },
     "execution_count": 74,
     "metadata": {},
     "output_type": "execute_result"
    }
   ],
   "source": [
    "test_grp = customer_grps.get_group(12347.0)\n",
    "\n",
    "test_grp[['InvoiceNo','Description', 'InvoiceDate']]"
   ]
  },
  {
   "cell_type": "code",
   "execution_count": 77,
   "metadata": {
    "scrolled": false
   },
   "outputs": [
    {
     "name": "stdout",
     "output_type": "stream",
     "text": [
      "2010-12-07 14:57:00\n",
      "10652        BLACK CANDELABRA T-LIGHT HOLDER\n",
      "10653      AIRLINE BAG VINTAGE JET SET BROWN\n",
      "10654      COLOUR GLASS. STAR T-LIGHT HOLDER\n",
      "10655                MINI PAINT SET VINTAGE \n",
      "10656    CLEAR DRAWER KNOB ACRYLIC EDWARDIAN\n",
      "10657     PINK DRAWER KNOB ACRYLIC EDWARDIAN\n",
      "10658    GREEN DRAWER KNOB ACRYLIC EDWARDIAN\n",
      "10659      RED DRAWER KNOB ACRYLIC EDWARDIAN\n",
      "10660    PURPLE DRAWERKNOB ACRYLIC EDWARDIAN\n",
      "10661     BLUE DRAWER KNOB ACRYLIC EDWARDIAN\n",
      "10662         ALARM CLOCK BAKELIKE CHOCOLATE\n",
      "10663             ALARM CLOCK BAKELIKE GREEN\n",
      "10664              ALARM CLOCK BAKELIKE RED \n",
      "10665              ALARM CLOCK BAKELIKE PINK\n",
      "10666            ALARM CLOCK BAKELIKE ORANGE\n",
      "10667             FOUR HOOK  WHITE LOVEBIRDS\n",
      "10668        BLACK GRAND BAROQUE PHOTO FRAME\n",
      "10669                   BATHROOM METAL SIGN \n",
      "10670           LARGE HEART MEASURING SPOONS\n",
      "10671     BOX OF 6 ASSORTED COLOUR TEASPOONS\n",
      "10672      BLUE 3 PIECE POLKADOT CUTLERY SET\n",
      "10673      RED 3 PIECE RETROSPOT CUTLERY SET\n",
      "10674      PINK 3 PIECE POLKADOT CUTLERY SET\n",
      "10675               EMERGENCY FIRST AID TIN \n",
      "10676        SET OF 2 TINS VINTAGE BATHROOM \n",
      "10677          SET/3 DECOUPAGE STACKING TINS\n",
      "10678                  BOOM BOX SPEAKER BOYS\n",
      "10679          RED TOADSTOOL LED NIGHT LIGHT\n",
      "10680           3D DOG PICTURE PLAYING CARDS\n",
      "10681              BLACK EAR MUFF HEADPHONES\n",
      "10682         CAMOUFLAGE EAR MUFF HEADPHONES\n",
      "Name: Description, dtype: object\n",
      "2011-01-26 14:30:00\n",
      "44582     PINK NEW BAROQUECANDLESTICK CANDLE\n",
      "44583    BLUE NEW BAROQUE CANDLESTICK CANDLE\n",
      "44584        BLACK CANDELABRA T-LIGHT HOLDER\n",
      "44585                 WOODLAND CHARLOTTE BAG\n",
      "44586      AIRLINE BAG VINTAGE JET SET BROWN\n",
      "44587      AIRLINE BAG VINTAGE JET SET WHITE\n",
      "44588                   SANDWICH BATH SPONGE\n",
      "44589         ALARM CLOCK BAKELIKE CHOCOLATE\n",
      "44590             ALARM CLOCK BAKELIKE GREEN\n",
      "44591              ALARM CLOCK BAKELIKE RED \n",
      "44592              ALARM CLOCK BAKELIKE PINK\n",
      "44593            ALARM CLOCK BAKELIKE ORANGE\n",
      "44594           SMALL HEART MEASURING SPOONS\n",
      "44595         72 SWEETHEART FAIRY CAKE CASES\n",
      "44596            60 TEATIME FAIRY CAKE CASES\n",
      "44597         PACK OF 60 MUSHROOM CAKE CASES\n",
      "44598         PACK OF 60 SPACEBOY CAKE CASES\n",
      "44599                    TEA TIME OVEN GLOVE\n",
      "44600              RED RETROSPOT OVEN GLOVE \n",
      "44601        RED RETROSPOT OVEN GLOVE DOUBLE\n",
      "44602        SET/2 RED RETROSPOT TEA TOWELS \n",
      "44603               REGENCY CAKESTAND 3 TIER\n",
      "44604     BOX OF 6 ASSORTED COLOUR TEASPOONS\n",
      "44605             MINI LADLE LOVE HEART RED \n",
      "44606                   CHOCOLATE CALCULATOR\n",
      "44607                    TOOTHPASTE TUBE PEN\n",
      "44608        SET OF 2 TINS VINTAGE BATHROOM \n",
      "44609          RED TOADSTOOL LED NIGHT LIGHT\n",
      "44610           3D DOG PICTURE PLAYING CARDS\n",
      "Name: Description, dtype: object\n",
      "2011-04-07 10:43:00\n",
      "101930      AIRLINE BAG VINTAGE JET SET WHITE\n",
      "101931        AIRLINE BAG VINTAGE JET SET RED\n",
      "101932           AIRLINE BAG VINTAGE TOKYO 78\n",
      "101933      AIRLINE BAG VINTAGE JET SET BROWN\n",
      "101934                   RED RETROSPOT PURSE \n",
      "101935             ICE CREAM SUNDAE LIP GLOSS\n",
      "101936     VINTAGE HEADS AND TAILS CARD GAME \n",
      "101937                       HOLIDAY FUN LUDO\n",
      "101938               TREASURE ISLAND BOOK BOX\n",
      "101939                WATERING CAN PINK BUNNY\n",
      "101940      RED DRAWER KNOB ACRYLIC EDWARDIAN\n",
      "101941           LARGE HEART MEASURING SPOONS\n",
      "101942           SMALL HEART MEASURING SPOONS\n",
      "101943         PACK OF 60 DINOSAUR CAKE CASES\n",
      "101944        RED RETROSPOT OVEN GLOVE DOUBLE\n",
      "101945               REGENCY CAKESTAND 3 TIER\n",
      "101946       ROSES REGENCY TEACUP AND SAUCER \n",
      "101947          RED TOADSTOOL LED NIGHT LIGHT\n",
      "101948                MINI PAINT SET VINTAGE \n",
      "101949               3D SHEET OF DOG STICKERS\n",
      "101950               3D SHEET OF CAT STICKERS\n",
      "101951    SMALL FOLDING SCISSOR(POINTED EDGE)\n",
      "101952            GIFT BAG PSYCHEDELIC APPLES\n",
      "101953        SET OF 2 TINS VINTAGE BATHROOM \n",
      "Name: Description, dtype: object\n",
      "2011-06-09 13:01:00\n",
      "157619                   RABBIT NIGHT LIGHT\n",
      "157620                 REGENCY TEA STRAINER\n",
      "157621             REGENCY TEA PLATE GREEN \n",
      "157622               REGENCY TEA PLATE PINK\n",
      "157623             REGENCY TEA PLATE ROSES \n",
      "157624                REGENCY TEAPOT ROSES \n",
      "157625             REGENCY SUGAR BOWL GREEN\n",
      "157626               REGENCY MILK JUG PINK \n",
      "157627         AIRLINE BAG VINTAGE TOKYO 78\n",
      "157628    AIRLINE BAG VINTAGE JET SET BROWN\n",
      "157629                 VICTORIAN SEWING KIT\n",
      "157630               NAMASTE SWAGAT INCENSE\n",
      "157631       TRIPLE HOOK ANTIQUE IVORY ROSE\n",
      "157632         SMALL HEART MEASURING SPOONS\n",
      "157633         3D DOG PICTURE PLAYING CARDS\n",
      "157634               FEATHER PEN,COAL BLACK\n",
      "157635            ALARM CLOCK BAKELIKE RED \n",
      "157636       ALARM CLOCK BAKELIKE CHOCOLATE\n",
      "Name: Description, dtype: object\n",
      "2011-08-02 08:48:00\n",
      "205271     SET OF 60 VINTAGE LEAF CAKE CASES \n",
      "205272    SET 40 HEART SHAPE PETIT FOUR CASES\n",
      "205273      AIRLINE BAG VINTAGE JET SET BROWN\n",
      "205274        AIRLINE BAG VINTAGE JET SET RED\n",
      "205275      AIRLINE BAG VINTAGE JET SET WHITE\n",
      "205276           AIRLINE BAG VINTAGE TOKYO 78\n",
      "205277    AIRLINE BAG VINTAGE WORLD CHAMPION \n",
      "205278       WOODLAND DESIGN  COTTON TOTE BAG\n",
      "205279                 WOODLAND CHARLOTTE BAG\n",
      "205280              ALARM CLOCK BAKELIKE RED \n",
      "205281         TRIPLE HOOK ANTIQUE IVORY ROSE\n",
      "205282         SINGLE ANTIQUE ROSE HOOK IVORY\n",
      "205283                    TEA TIME OVEN GLOVE\n",
      "205284         72 SWEETHEART FAIRY CAKE CASES\n",
      "205285            60 TEATIME FAIRY CAKE CASES\n",
      "205286         PACK OF 60 DINOSAUR CAKE CASES\n",
      "205287               REGENCY CAKESTAND 3 TIER\n",
      "205288                 REGENCY MILK JUG PINK \n",
      "205289           3D DOG PICTURE PLAYING CARDS\n",
      "205290                 REVOLVER WOODEN RULER \n",
      "205291     VINTAGE HEADS AND TAILS CARD GAME \n",
      "205292                   RED REFECTORY CLOCK \n",
      "Name: Description, dtype: object\n",
      "2011-10-31 12:25:00\n",
      "322193         MINI LIGHTS WOODLAND MUSHROOMS\n",
      "322194           PINK GOOSE FEATHER TREE 60CM\n",
      "322195                 MADRAS NOTEBOOK MEDIUM\n",
      "322196    AIRLINE BAG VINTAGE WORLD CHAMPION \n",
      "322197      AIRLINE BAG VINTAGE JET SET BROWN\n",
      "322198           AIRLINE BAG VINTAGE TOKYO 78\n",
      "322199        AIRLINE BAG VINTAGE JET SET RED\n",
      "322200    BIRDCAGE DECORATION TEALIGHT HOLDER\n",
      "322201         CHRISTMAS METAL TAGS ASSORTED \n",
      "322202               REGENCY CAKESTAND 3 TIER\n",
      "322203                  REGENCY TEAPOT ROSES \n",
      "322204                  TEA TIME DES TEA COSY\n",
      "322205                 TEA TIME KITCHEN APRON\n",
      "322206                    TEA TIME OVEN GLOVE\n",
      "322207         PINK REGENCY TEACUP AND SAUCER\n",
      "322208        GREEN REGENCY TEACUP AND SAUCER\n",
      "322209           3D DOG PICTURE PLAYING CARDS\n",
      "322210                     RABBIT NIGHT LIGHT\n",
      "322211          RED TOADSTOOL LED NIGHT LIGHT\n",
      "322212               TREASURE ISLAND BOOK BOX\n",
      "322213     VINTAGE HEADS AND TAILS CARD GAME \n",
      "322214         MINI PLAYING CARDS DOLLY GIRL \n",
      "322215           MINI PLAYING CARDS SPACEBOY \n",
      "322216     PLAYING CARDS KEEP CALM & CARRY ON\n",
      "322217                 REVOLVER WOODEN RULER \n",
      "322218            WOODEN SCHOOL COLOURING SET\n",
      "322219                MINI PAINT SET VINTAGE \n",
      "322220             TRADITIONAL KNITTING NANCY\n",
      "322221         TRIPLE HOOK ANTIQUE IVORY ROSE\n",
      "322222                    PANTRY HOOK SPATULA\n",
      "322223             PANTRY HOOK BALLOON WHISK \n",
      "322224              PANTRY HOOK TEA STRAINER \n",
      "322225       ROSES REGENCY TEACUP AND SAUCER \n",
      "322226         ALARM CLOCK BAKELIKE CHOCOLATE\n",
      "322227              ALARM CLOCK BAKELIKE PINK\n",
      "322228             ALARM CLOCK BAKELIKE GREEN\n",
      "322229              ALARM CLOCK BAKELIKE RED \n",
      "322230         PACK OF 60 MUSHROOM CAKE CASES\n",
      "322231         PACK OF 60 SPACEBOY CAKE CASES\n",
      "322232     SET OF 60 VINTAGE LEAF CAKE CASES \n",
      "322233            60 TEATIME FAIRY CAKE CASES\n",
      "322234         72 SWEETHEART FAIRY CAKE CASES\n",
      "322235           SMALL HEART MEASURING SPOONS\n",
      "322236           LARGE HEART MEASURING SPOONS\n",
      "322237                 WOODLAND CHARLOTTE BAG\n",
      "322238                   REGENCY TEA STRAINER\n",
      "322239       FOOD CONTAINER SET 3 LOVE HEART \n",
      "Name: Description, dtype: object\n",
      "2011-12-07 15:52:00\n",
      "403103           CLASSIC CHROME BICYCLE BELL \n",
      "403104           BICYCLE PUNCTURE REPAIR KIT \n",
      "403105                  BOOM BOX SPEAKER BOYS\n",
      "403106     PINK NEW BAROQUECANDLESTICK CANDLE\n",
      "403107          RED TOADSTOOL LED NIGHT LIGHT\n",
      "403108                     RABBIT NIGHT LIGHT\n",
      "403109                 WOODLAND CHARLOTTE BAG\n",
      "403110           PINK GOOSE FEATHER TREE 60CM\n",
      "403111    CHRISTMAS TABLE SILVER CANDLE SPIKE\n",
      "403112           MINI PLAYING CARDS SPACEBOY \n",
      "403113         MINI PLAYING CARDS DOLLY GIRL \n",
      "Name: Description, dtype: object\n"
     ]
    }
   ],
   "source": [
    "for invoice_date, grp in test_grp.groupby('InvoiceDate'):\n",
    "    print(invoice_date)\n",
    "    print(grp['Description'])"
   ]
  },
  {
   "cell_type": "code",
   "execution_count": null,
   "metadata": {},
   "outputs": [],
   "source": []
  }
 ],
 "metadata": {
  "kernelspec": {
   "display_name": "Python 3",
   "language": "python",
   "name": "python3"
  },
  "language_info": {
   "codemirror_mode": {
    "name": "ipython",
    "version": 3
   },
   "file_extension": ".py",
   "mimetype": "text/x-python",
   "name": "python",
   "nbconvert_exporter": "python",
   "pygments_lexer": "ipython3",
   "version": "3.8.8"
  }
 },
 "nbformat": 4,
 "nbformat_minor": 4
}
